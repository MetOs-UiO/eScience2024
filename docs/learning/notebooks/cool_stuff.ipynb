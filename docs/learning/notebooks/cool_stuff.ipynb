{
 "cells": [
  {
   "cell_type": "markdown",
   "metadata": {},
   "source": [
    "# Building notebooks directly"
   ]
  },
  {
   "cell_type": "code",
   "execution_count": null,
   "metadata": {},
   "outputs": [],
   "source": [
    "def abc(a, b):\n",
    "    return a + b\n",
    "\n",
    "\n",
    "c = abc(1, 2)\n",
    "\n",
    "print(\"1 + 2 =\", c)"
   ]
  }
 ],
 "metadata": {
  "language_info": {
   "name": "python"
  }
 },
 "nbformat": 4,
 "nbformat_minor": 2
}
